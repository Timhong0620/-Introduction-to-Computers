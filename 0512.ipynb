{
  "nbformat": 4,
  "nbformat_minor": 0,
  "metadata": {
    "colab": {
      "provenance": [],
      "include_colab_link": true
    },
    "kernelspec": {
      "name": "python3",
      "display_name": "Python 3"
    },
    "language_info": {
      "name": "python"
    }
  },
  "cells": [
    {
      "cell_type": "markdown",
      "metadata": {
        "id": "view-in-github",
        "colab_type": "text"
      },
      "source": [
        "<a href=\"https://colab.research.google.com/github/Timhong0620/-Introduction-to-Computers/blob/main/0512.ipynb\" target=\"_parent\"><img src=\"https://colab.research.google.com/assets/colab-badge.svg\" alt=\"Open In Colab\"/></a>"
      ]
    },
    {
      "cell_type": "code",
      "execution_count": null,
      "metadata": {
        "colab": {
          "base_uri": "https://localhost:8080/"
        },
        "id": "mBw2FErE6fI8",
        "outputId": "de973c48-3826-4bb9-bc85-a7f28e6e3c5d"
      },
      "outputs": [
        {
          "output_type": "stream",
          "name": "stdout",
          "text": [
            "請輸入整數: 43\n",
            "奇數\n",
            "Bye!!\n"
          ]
        }
      ],
      "source": [
        "num=int(input(\"請輸入整數: \"))\n",
        "if num % 2==0:\n",
        "  print(\"偶數\")\n",
        "else:\n",
        "  print(\"奇數\")\n",
        "print(\"Bye!!\")"
      ]
    },
    {
      "cell_type": "code",
      "source": [
        "age=int(input(\"請輸入您的年齡: \"))\n",
        "if age < 18 :\n",
        "  print(\"未成年人\")\n",
        "elif age >= 18 and age <= 65:\n",
        "  print(\"成年人\")\n",
        "else:\n",
        "  print(\"老年人\")"
      ],
      "metadata": {
        "colab": {
          "base_uri": "https://localhost:8080/"
        },
        "id": "qLMHZpLX7Dkv",
        "outputId": "3a762c80-9d44-494d-d03b-2d164d3074f7"
      },
      "execution_count": null,
      "outputs": [
        {
          "output_type": "stream",
          "name": "stdout",
          "text": [
            "請輸入您的年齡: 65\n",
            "成年人\n"
          ]
        }
      ]
    },
    {
      "cell_type": "code",
      "source": [
        "mon=int(input(\"請輸入月份: \"))\n",
        "if mon in (1,2,3):\n",
        "  print(\"春季\")\n",
        "elif mon in (4,5,6):\n",
        "  print(\"夏季\")\n",
        "elif mon in (7,8,9):\n",
        "  print(\"秋季\")\n",
        "elif mon in (10,11,12):\n",
        "  print(\"冬季\")\n",
        "else:\n",
        "  print(\"無效月份\")"
      ],
      "metadata": {
        "colab": {
          "base_uri": "https://localhost:8080/"
        },
        "id": "a4vpyBzv70Ic",
        "outputId": "18e42f56-88bf-4aff-f485-d94073896541"
      },
      "execution_count": null,
      "outputs": [
        {
          "output_type": "stream",
          "name": "stdout",
          "text": [
            "請輸入月份: 10\n",
            "冬季\n"
          ]
        }
      ]
    },
    {
      "cell_type": "code",
      "source": [],
      "metadata": {
        "id": "kD4F9cFB9Tjv"
      },
      "execution_count": null,
      "outputs": []
    }
  ]
}